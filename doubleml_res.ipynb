{
 "cells": [
  {
   "cell_type": "markdown",
   "metadata": {},
   "source": [
    "## Setup\n",
    "All the imports. simutils contains a set of functions I created for generating synthetic data for these experiments."
   ]
  },
  {
   "cell_type": "code",
   "execution_count": 1,
   "metadata": {},
   "outputs": [],
   "source": [
    "#!pip install statsmodels\n",
    "#!pip install scikit-learn\n",
    "#!pip install numpy\n",
    "#!pip install pandas\n",
    "#!pip install matplotlib\n",
    "#!pip install scipy\n",
    "\n",
    "import simutils as sim\n",
    "import numpy as np\n",
    "import pandas as pd"
   ]
  },
  {
   "cell_type": "markdown",
   "metadata": {},
   "source": [
    "## Predictor Variables of Non-Interest\n",
    "First, create some synthetic age, credit score and arbitrary hypothetically relevant personality characteristic values. Most of these variables are nuisance or confounding variables, but will partially determine both the predictor of interest and the dependent variable.\n",
    "\n",
    "Age will be normally distributed (M=35, SD=10) and range from 18 to 78. Credit scores are 700-730 on average, but tend to be lower for younger people, and are reduced by up to 40 points for the youngest, relative to the oldest. The hypothetical personality variable will reflect whatever set of intrinsic characteristics (e.g., inquisitiveness, intelligence) that are normally distributed and might drive the behaviour of interest."
   ]
  },
  {
   "cell_type": "code",
   "execution_count": 2,
   "metadata": {},
   "outputs": [
    {
     "data": {
      "text/html": [
       "<div>\n",
       "<style scoped>\n",
       "    .dataframe tbody tr th:only-of-type {\n",
       "        vertical-align: middle;\n",
       "    }\n",
       "\n",
       "    .dataframe tbody tr th {\n",
       "        vertical-align: top;\n",
       "    }\n",
       "\n",
       "    .dataframe thead th {\n",
       "        text-align: right;\n",
       "    }\n",
       "</style>\n",
       "<table border=\"1\" class=\"dataframe\">\n",
       "  <thead>\n",
       "    <tr style=\"text-align: right;\">\n",
       "      <th></th>\n",
       "      <th>age</th>\n",
       "      <th>credit_score</th>\n",
       "      <th>personality</th>\n",
       "    </tr>\n",
       "  </thead>\n",
       "  <tbody>\n",
       "    <tr>\n",
       "      <th>0</th>\n",
       "      <td>38</td>\n",
       "      <td>721</td>\n",
       "      <td>-2.989375</td>\n",
       "    </tr>\n",
       "    <tr>\n",
       "      <th>1</th>\n",
       "      <td>24</td>\n",
       "      <td>631</td>\n",
       "      <td>-0.068916</td>\n",
       "    </tr>\n",
       "    <tr>\n",
       "      <th>2</th>\n",
       "      <td>42</td>\n",
       "      <td>751</td>\n",
       "      <td>-0.902461</td>\n",
       "    </tr>\n",
       "    <tr>\n",
       "      <th>3</th>\n",
       "      <td>44</td>\n",
       "      <td>763</td>\n",
       "      <td>0.195817</td>\n",
       "    </tr>\n",
       "    <tr>\n",
       "      <th>4</th>\n",
       "      <td>18</td>\n",
       "      <td>572</td>\n",
       "      <td>-0.119864</td>\n",
       "    </tr>\n",
       "  </tbody>\n",
       "</table>\n",
       "</div>"
      ],
      "text/plain": [
       "   age  credit_score  personality\n",
       "0   38           721    -2.989375\n",
       "1   24           631    -0.068916\n",
       "2   42           751    -0.902461\n",
       "3   44           763     0.195817\n",
       "4   18           572    -0.119864"
      ]
     },
     "execution_count": 2,
     "metadata": {},
     "output_type": "execute_result"
    }
   ],
   "source": [
    "N=50000\n",
    "ages=sim.generate_ages(35, 10, N)\n",
    "credit_scores=sim.generate_credit_scores(ages)\n",
    "personality=np.random.normal(loc=0, scale=1, size=N)\n",
    "#create data frame out of factors\n",
    "Z=pd.DataFrame({\n",
    "    'age': ages,\n",
    "    'credit_score': credit_scores,\n",
    "    'personality': personality\n",
    "    })\n",
    "Z.head()"
   ]
  },
  {
   "cell_type": "markdown",
   "metadata": {},
   "source": [
    "## Predictor of Interest\n",
    "The independent measure will be the number of recorded interactions with product information pages, obtained from cookies, since monitoring was implemented.\n",
    "\n",
    "Our goal will be to determine the causal relationship between clicking behavior and the dependent variable, personal wealth. This relationship can be quantified by computing the coefficient or weight in a regression or machine learning model that predicts wealth from clicks.\n",
    "\n",
    "Clicking behavior will be influenced by all three of the variables in Z. These influences will be non-linear, which would make a linear regression-based approach a poor choice, though the number of clicks will be a linear combination of all three influences. I will explicitly determine each confound's influence on an individual's clicking behavior, making it easier to establish the ground-truth."
   ]
  },
  {
   "cell_type": "code",
   "execution_count": 3,
   "metadata": {},
   "outputs": [
    {
     "data": {
      "text/html": [
       "<div>\n",
       "<style scoped>\n",
       "    .dataframe tbody tr th:only-of-type {\n",
       "        vertical-align: middle;\n",
       "    }\n",
       "\n",
       "    .dataframe tbody tr th {\n",
       "        vertical-align: top;\n",
       "    }\n",
       "\n",
       "    .dataframe thead th {\n",
       "        text-align: right;\n",
       "    }\n",
       "</style>\n",
       "<table border=\"1\" class=\"dataframe\">\n",
       "  <thead>\n",
       "    <tr style=\"text-align: right;\">\n",
       "      <th></th>\n",
       "      <th>age_delta</th>\n",
       "      <th>csv_delta</th>\n",
       "      <th>personality_delta</th>\n",
       "      <th>baseline</th>\n",
       "      <th>total</th>\n",
       "    </tr>\n",
       "  </thead>\n",
       "  <tbody>\n",
       "    <tr>\n",
       "      <th>0</th>\n",
       "      <td>38</td>\n",
       "      <td>7</td>\n",
       "      <td>-19</td>\n",
       "      <td>22</td>\n",
       "      <td>48</td>\n",
       "    </tr>\n",
       "    <tr>\n",
       "      <th>1</th>\n",
       "      <td>37</td>\n",
       "      <td>34</td>\n",
       "      <td>9</td>\n",
       "      <td>36</td>\n",
       "      <td>116</td>\n",
       "    </tr>\n",
       "    <tr>\n",
       "      <th>2</th>\n",
       "      <td>47</td>\n",
       "      <td>12</td>\n",
       "      <td>0</td>\n",
       "      <td>17</td>\n",
       "      <td>76</td>\n",
       "    </tr>\n",
       "    <tr>\n",
       "      <th>3</th>\n",
       "      <td>69</td>\n",
       "      <td>16</td>\n",
       "      <td>11</td>\n",
       "      <td>35</td>\n",
       "      <td>131</td>\n",
       "    </tr>\n",
       "    <tr>\n",
       "      <th>4</th>\n",
       "      <td>-5</td>\n",
       "      <td>45</td>\n",
       "      <td>8</td>\n",
       "      <td>11</td>\n",
       "      <td>59</td>\n",
       "    </tr>\n",
       "  </tbody>\n",
       "</table>\n",
       "</div>"
      ],
      "text/plain": [
       "   age_delta  csv_delta  personality_delta  baseline  total\n",
       "0         38          7                -19        22     48\n",
       "1         37         34                  9        36    116\n",
       "2         47         12                  0        17     76\n",
       "3         69         16                 11        35    131\n",
       "4         -5         45                  8        11     59"
      ]
     },
     "execution_count": 3,
     "metadata": {},
     "output_type": "execute_result"
    }
   ],
   "source": [
    "from scipy.stats import randint\n",
    "\n",
    "clicks=sim.generate_clicks(Z)\n",
    "clicks.columns=['age_delta', 'csv_delta', 'personality_delta']\n",
    "#external random factors are responsible for the baseline number of interactions\n",
    "clicks['baseline'] = randint.rvs(10,50, size=N)\n",
    "clicks['total'] = clicks.apply(np.sum, axis=1)\n",
    "clicks.head()"
   ]
  },
  {
   "cell_type": "markdown",
   "metadata": {},
   "source": [
    "From the perspective of an all-knowing oracle, we can isolate the total number of clicks for each person that were not attributable to either age or credit score value:"
   ]
  },
  {
   "cell_type": "code",
   "execution_count": 4,
   "metadata": {},
   "outputs": [],
   "source": [
    "clean_clicks=pd.DataFrame(clicks['personality_delta']+clicks['baseline'])\n",
    "clean_clicks.columns=['i_total']"
   ]
  },
  {
   "cell_type": "markdown",
   "metadata": {},
   "source": [
    "## The Dependent Variable: Wealth/Value\n",
    "Now to create the dependent variable, portfolio value, we can use a similar procedure. The DV value will be caused in part by the number of clicks, as well as age and credit score and we can see whether we can tease apart these components. **Every click causes an increases a person's wealth by $500**, and this is the causal parameter we are trying to discover."
   ]
  },
  {
   "cell_type": "code",
   "execution_count": 5,
   "metadata": {},
   "outputs": [
    {
     "data": {
      "text/html": [
       "<div>\n",
       "<style scoped>\n",
       "    .dataframe tbody tr th:only-of-type {\n",
       "        vertical-align: middle;\n",
       "    }\n",
       "\n",
       "    .dataframe tbody tr th {\n",
       "        vertical-align: top;\n",
       "    }\n",
       "\n",
       "    .dataframe thead th {\n",
       "        text-align: right;\n",
       "    }\n",
       "</style>\n",
       "<table border=\"1\" class=\"dataframe\">\n",
       "  <thead>\n",
       "    <tr style=\"text-align: right;\">\n",
       "      <th></th>\n",
       "      <th>age_wealth</th>\n",
       "      <th>csv_wealth</th>\n",
       "      <th>click_wealth</th>\n",
       "      <th>circumstance_wealth</th>\n",
       "      <th>total_wealth</th>\n",
       "    </tr>\n",
       "  </thead>\n",
       "  <tbody>\n",
       "    <tr>\n",
       "      <th>0</th>\n",
       "      <td>18379</td>\n",
       "      <td>54368</td>\n",
       "      <td>23990</td>\n",
       "      <td>34327</td>\n",
       "      <td>131064</td>\n",
       "    </tr>\n",
       "    <tr>\n",
       "      <th>1</th>\n",
       "      <td>15229</td>\n",
       "      <td>39603</td>\n",
       "      <td>57995</td>\n",
       "      <td>49381</td>\n",
       "      <td>162208</td>\n",
       "    </tr>\n",
       "    <tr>\n",
       "      <th>2</th>\n",
       "      <td>35530</td>\n",
       "      <td>60454</td>\n",
       "      <td>38009</td>\n",
       "      <td>37480</td>\n",
       "      <td>171473</td>\n",
       "    </tr>\n",
       "    <tr>\n",
       "      <th>3</th>\n",
       "      <td>38973</td>\n",
       "      <td>63080</td>\n",
       "      <td>65495</td>\n",
       "      <td>38179</td>\n",
       "      <td>205727</td>\n",
       "    </tr>\n",
       "    <tr>\n",
       "      <th>4</th>\n",
       "      <td>11037</td>\n",
       "      <td>32217</td>\n",
       "      <td>29497</td>\n",
       "      <td>36577</td>\n",
       "      <td>109328</td>\n",
       "    </tr>\n",
       "  </tbody>\n",
       "</table>\n",
       "</div>"
      ],
      "text/plain": [
       "   age_wealth  csv_wealth  click_wealth  circumstance_wealth  total_wealth\n",
       "0       18379       54368         23990                34327        131064\n",
       "1       15229       39603         57995                49381        162208\n",
       "2       35530       60454         38009                37480        171473\n",
       "3       38973       63080         65495                38179        205727\n",
       "4       11037       32217         29497                36577        109328"
      ]
     },
     "execution_count": 5,
     "metadata": {},
     "output_type": "execute_result"
    }
   ],
   "source": [
    "#baseline wealth increases as individuals get older until ~75, at which point it drops off\n",
    "age_wealth=Z.apply(lambda row: sim.age_worth(row[0]), axis=1)\n",
    "#baseline wealth increases for people with better credit scores, who can get better rates\n",
    "csv_wealth=Z.apply(lambda row: sim.csv_worth(row[1]), axis=1)\n",
    "#wealth increases caused by the behavior we care about (clicks), itself influenced by age and credit\n",
    "click_wealth=clicks.apply(lambda row: sim.clicks_worth(row[4]), axis=1)\n",
    "#wealth attributable to all the other random chance factors\n",
    "circumstance_wealth=clicks.apply(lambda row: sim.circumstance_worth(), axis=1)\n",
    "wealth=pd.concat([age_wealth, csv_wealth, click_wealth, circumstance_wealth], axis=1)\n",
    "wealth.columns=['age_wealth', 'csv_wealth', 'click_wealth', 'circumstance_wealth']\n",
    "wealth[\"total_wealth\"]=wealth.apply(np.sum, axis=1)\n",
    "wealth.head()\n"
   ]
  },
  {
   "cell_type": "markdown",
   "metadata": {},
   "source": [
    "Like for clicks, I want the oracle measure of the wealth attributable to those clicks that were not driven by age and credit score:"
   ]
  },
  {
   "cell_type": "code",
   "execution_count": 6,
   "metadata": {},
   "outputs": [],
   "source": [
    "clean_wealth=clean_clicks.apply(lambda row: sim.clicks_worth(row[0]), axis=1)"
   ]
  },
  {
   "cell_type": "markdown",
   "metadata": {},
   "source": [
    "## Obtaining Residuals\n",
    "\n",
    "Double ML works by obtaining residualized scores for the variables of interest after using the nuisance variables to predict these values. Theoretically, the residuals represent variability among scores that are not predicted by the nuisance variables."
   ]
  },
  {
   "cell_type": "code",
   "execution_count": 12,
   "metadata": {},
   "outputs": [
    {
     "data": {
      "text/html": [
       "<div>\n",
       "<style scoped>\n",
       "    .dataframe tbody tr th:only-of-type {\n",
       "        vertical-align: middle;\n",
       "    }\n",
       "\n",
       "    .dataframe tbody tr th {\n",
       "        vertical-align: top;\n",
       "    }\n",
       "\n",
       "    .dataframe thead th {\n",
       "        text-align: right;\n",
       "    }\n",
       "</style>\n",
       "<table border=\"1\" class=\"dataframe\">\n",
       "  <thead>\n",
       "    <tr style=\"text-align: right;\">\n",
       "      <th></th>\n",
       "      <th>Y</th>\n",
       "      <th>X</th>\n",
       "      <th>Y_hat</th>\n",
       "      <th>X_hat</th>\n",
       "      <th>age</th>\n",
       "      <th>credit_score</th>\n",
       "    </tr>\n",
       "  </thead>\n",
       "  <tbody>\n",
       "    <tr>\n",
       "      <th>0</th>\n",
       "      <td>-1.102131</td>\n",
       "      <td>-2.576214</td>\n",
       "      <td>-2.508272</td>\n",
       "      <td>-2.315385</td>\n",
       "      <td>0.343853</td>\n",
       "      <td>0.307490</td>\n",
       "    </tr>\n",
       "    <tr>\n",
       "      <th>1</th>\n",
       "      <td>-0.148870</td>\n",
       "      <td>0.578175</td>\n",
       "      <td>1.253811</td>\n",
       "      <td>0.317924</td>\n",
       "      <td>-1.114945</td>\n",
       "      <td>-1.047467</td>\n",
       "    </tr>\n",
       "    <tr>\n",
       "      <th>2</th>\n",
       "      <td>0.134715</td>\n",
       "      <td>-1.277348</td>\n",
       "      <td>-2.215201</td>\n",
       "      <td>-2.310890</td>\n",
       "      <td>0.760653</td>\n",
       "      <td>0.759142</td>\n",
       "    </tr>\n",
       "    <tr>\n",
       "      <th>3</th>\n",
       "      <td>1.183169</td>\n",
       "      <td>1.273997</td>\n",
       "      <td>0.560698</td>\n",
       "      <td>0.949115</td>\n",
       "      <td>0.969052</td>\n",
       "      <td>0.939803</td>\n",
       "    </tr>\n",
       "    <tr>\n",
       "      <th>4</th>\n",
       "      <td>-1.767431</td>\n",
       "      <td>-2.065945</td>\n",
       "      <td>-1.737784</td>\n",
       "      <td>-1.569089</td>\n",
       "      <td>-1.740144</td>\n",
       "      <td>-1.935716</td>\n",
       "    </tr>\n",
       "  </tbody>\n",
       "</table>\n",
       "</div>"
      ],
      "text/plain": [
       "          Y         X     Y_hat     X_hat       age  credit_score\n",
       "0 -1.102131 -2.576214 -2.508272 -2.315385  0.343853      0.307490\n",
       "1 -0.148870  0.578175  1.253811  0.317924 -1.114945     -1.047467\n",
       "2  0.134715 -1.277348 -2.215201 -2.310890  0.760653      0.759142\n",
       "3  1.183169  1.273997  0.560698  0.949115  0.969052      0.939803\n",
       "4 -1.767431 -2.065945 -1.737784 -1.569089 -1.740144     -1.935716"
      ]
     },
     "execution_count": 12,
     "metadata": {},
     "output_type": "execute_result"
    }
   ],
   "source": [
    "import statsmodels.formula.api as smf\n",
    "from sklearn.ensemble import GradientBoostingRegressor\n",
    "from sklearn.model_selection import cross_val_predict\n",
    "\n",
    "M_clicks=GradientBoostingRegressor()\n",
    "M_wealth=GradientBoostingRegressor()\n",
    "\n",
    "y=wealth[\"total_wealth\"]\n",
    "x=clicks[\"total\"]\n",
    "\n",
    "#use cross-validation values to obtain residuals\n",
    "residualized_y = y-cross_val_predict(M_wealth, Z[[\"age\", \"credit_score\"]], y, cv=3)\n",
    "residualized_x = x-cross_val_predict(M_clicks, Z[[\"age\", \"credit_score\"]], x, cv=3)\n",
    "df=pd.DataFrame()\n",
    "df[\"Y\"]=y\n",
    "df[\"X\"]=x\n",
    "df[\"Y_hat\"]=residualized_y\n",
    "df[\"X_hat\"]=residualized_x\n",
    "df[\"age\"]=Z[\"age\"]\n",
    "df[\"credit_score\"]=Z[\"credit_score\"]\n",
    "\n",
    "#A meaningful comparison of regression coefficients will require normalized values\n",
    "norm_df=(df-df.mean())/df.std()\n",
    "norm_df.head()\n"
   ]
  },
  {
   "cell_type": "markdown",
   "metadata": {},
   "source": [
    "## Can We Use the Nuisance Variables to Predict the Residualized Scores?\n",
    "Theoretically, no. Let's see what happens when we try. Compare the regression using the normalized Y against the regression using the normalized Y residuals:"
   ]
  },
  {
   "cell_type": "code",
   "execution_count": 13,
   "metadata": {},
   "outputs": [
    {
     "name": "stdout",
     "output_type": "stream",
     "text": [
      "                            OLS Regression Results                            \n",
      "==============================================================================\n",
      "Dep. Variable:                      Y   R-squared:                       0.742\n",
      "Model:                            OLS   Adj. R-squared:                  0.742\n",
      "Method:                 Least Squares   F-statistic:                 7.190e+04\n",
      "Date:                Wed, 15 Nov 2023   Prob (F-statistic):               0.00\n",
      "Time:                        13:18:41   Log-Likelihood:                -37076.\n",
      "No. Observations:               50000   AIC:                         7.416e+04\n",
      "Df Residuals:                   49997   BIC:                         7.418e+04\n",
      "Df Model:                           2                                         \n",
      "Covariance Type:            nonrobust                                         \n",
      "================================================================================\n",
      "                   coef    std err          t      P>|t|      [0.025      0.975]\n",
      "--------------------------------------------------------------------------------\n",
      "Intercept    -2.374e-16      0.002  -1.05e-13      1.000      -0.004       0.004\n",
      "age              1.0789      0.020     53.247      0.000       1.039       1.119\n",
      "credit_score    -0.2192      0.020    -10.818      0.000      -0.259      -0.179\n",
      "==============================================================================\n",
      "Omnibus:                     1404.054   Durbin-Watson:                   2.004\n",
      "Prob(Omnibus):                  0.000   Jarque-Bera (JB):             2331.581\n",
      "Skew:                           0.259   Prob(JB):                         0.00\n",
      "Kurtosis:                       3.923   Cond. No.                         17.8\n",
      "==============================================================================\n",
      "\n",
      "Notes:\n",
      "[1] Standard Errors assume that the covariance matrix of the errors is correctly specified.\n"
     ]
    }
   ],
   "source": [
    "#fit Y using age and credit score\n",
    "reference_model = smf.ols(formula='Y ~ 1 + age + credit_score', data = norm_df).fit()\n",
    "print(reference_model.summary())\n"
   ]
  },
  {
   "cell_type": "code",
   "execution_count": 14,
   "metadata": {},
   "outputs": [
    {
     "name": "stdout",
     "output_type": "stream",
     "text": [
      "                            OLS Regression Results                            \n",
      "==============================================================================\n",
      "Dep. Variable:                  Y_hat   R-squared:                       0.000\n",
      "Model:                            OLS   Adj. R-squared:                 -0.000\n",
      "Method:                 Least Squares   F-statistic:                    0.1030\n",
      "Date:                Wed, 15 Nov 2023   Prob (F-statistic):              0.902\n",
      "Time:                        13:19:30   Log-Likelihood:                -70946.\n",
      "No. Observations:               50000   AIC:                         1.419e+05\n",
      "Df Residuals:                   49997   BIC:                         1.419e+05\n",
      "Df Model:                           2                                         \n",
      "Covariance Type:            nonrobust                                         \n",
      "================================================================================\n",
      "                   coef    std err          t      P>|t|      [0.025      0.975]\n",
      "--------------------------------------------------------------------------------\n",
      "Intercept     1.369e-17      0.004   3.06e-15      1.000      -0.009       0.009\n",
      "age              0.0077      0.040      0.192      0.848      -0.071       0.086\n",
      "credit_score    -0.0058      0.040     -0.145      0.885      -0.084       0.072\n",
      "==============================================================================\n",
      "Omnibus:                       71.197   Durbin-Watson:                   2.011\n",
      "Prob(Omnibus):                  0.000   Jarque-Bera (JB):               59.821\n",
      "Skew:                          -0.008   Prob(JB):                     1.02e-13\n",
      "Kurtosis:                       2.831   Cond. No.                         17.8\n",
      "==============================================================================\n",
      "\n",
      "Notes:\n",
      "[1] Standard Errors assume that the covariance matrix of the errors is correctly specified.\n"
     ]
    }
   ],
   "source": [
    "#fit residualized Y using age and credit score\n",
    "residual_model = smf.ols(formula='Y_hat ~ 1 + age + credit_score', data = norm_df).fit()\n",
    "print(residual_model.summary())"
   ]
  },
  {
   "cell_type": "markdown",
   "metadata": {},
   "source": [
    "This is a fair comparison because all normalized values are on the same relative scale. The coefficients on the residualized scores are closer to zero, at least two orders of magnitude smaller, and the confidence intervals include zero. Accordingly, the t-statistics indidate that neither age nor credit score are significant predictors of the residualized Y scores. "
   ]
  }
 ],
 "metadata": {
  "kernelspec": {
   "display_name": "Python 3",
   "language": "python",
   "name": "python3"
  },
  "language_info": {
   "codemirror_mode": {
    "name": "ipython",
    "version": 3
   },
   "file_extension": ".py",
   "mimetype": "text/x-python",
   "name": "python",
   "nbconvert_exporter": "python",
   "pygments_lexer": "ipython3",
   "version": "3.10.12"
  }
 },
 "nbformat": 4,
 "nbformat_minor": 2
}
